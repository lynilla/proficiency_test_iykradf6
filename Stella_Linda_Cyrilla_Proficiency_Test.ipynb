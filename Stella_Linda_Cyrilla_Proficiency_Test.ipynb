{
  "nbformat": 4,
  "nbformat_minor": 0,
  "metadata": {
    "colab": {
      "name": "Stella Linda Cyrilla_Proficiency Test.ipynb",
      "provenance": [],
      "collapsed_sections": [
        "go3iHQTvA20G",
        "Ws16ZjuKoK7n",
        "NWAVFwgQoTMy",
        "Kko5kf-VI6SU",
        "XIlASUtZMRzV",
        "hx_Ei4-evGe2",
        "UMWBYFAZEc1R",
        "Cw75qGcCFTIY",
        "UZgJkfE4FFxM",
        "KVJYPbbnLU8p",
        "fm41lOAfLkJm",
        "dVuxzOMOMHrL",
        "rwcfLJMILiwu"
      ]
    },
    "kernelspec": {
      "name": "python3",
      "display_name": "Python 3"
    },
    "language_info": {
      "name": "python"
    }
  },
  "cells": [
    {
      "cell_type": "markdown",
      "metadata": {
        "id": "qDmc2Pgq_ku9"
      },
      "source": [
        "# Proficiency Test\n",
        "Stella Linda Cyrilla"
      ]
    },
    {
      "cell_type": "markdown",
      "metadata": {
        "id": "Fp37PrXV_sxd"
      },
      "source": [
        "# 3. Exploratory Data Analysis"
      ]
    },
    {
      "cell_type": "markdown",
      "metadata": {
        "id": "qRse5Q0KAsqA"
      },
      "source": [
        "## Import Libraries"
      ]
    },
    {
      "cell_type": "code",
      "metadata": {
        "id": "-UPv1Bx3__2T"
      },
      "source": [
        "import pandas as pd\n",
        "import matplotlib.pyplot as plt\n",
        "import seaborn as sns"
      ],
      "execution_count": 44,
      "outputs": []
    },
    {
      "cell_type": "markdown",
      "metadata": {
        "id": "go3iHQTvA20G"
      },
      "source": [
        "## Load CSV Dataset from URLs"
      ]
    },
    {
      "cell_type": "code",
      "metadata": {
        "colab": {
          "base_uri": "https://localhost:8080/"
        },
        "id": "ElA2_iwOBA7s",
        "outputId": "20e0e439-ff57-4dc3-f6d2-00b3308694ad"
      },
      "source": [
        "#URLs\n",
        "url_1=\"https://raw.githubusercontent.com/Syukrondzeko/Crime-Dataset/main/Crime2018.csv\"\n",
        "url_2=\"https://raw.githubusercontent.com/Syukrondzeko/Crime-Dataset/main/Crime2019.csv\"\n",
        "url_3=\"https://raw.githubusercontent.com/Syukrondzeko/Crime-Dataset/main/Crime2020.csv\"\n",
        "\n",
        "#convert CSV into dataframes\n",
        "df_1=pd.read_csv(url_1)\n",
        "df_2=pd.read_csv(url_2)\n",
        "df_3=pd.read_csv(url_3)\n",
        "\n",
        "#Rows and columns for each dataframes\n",
        "print(\"CSV 1\\nRows: %d and Columns: %d \\n\" %df_1.shape)\n",
        "print(\"CSV 2\\nRows: %d and Columns: %d \\n\" %df_2.shape)\n",
        "print(\"CSV 3\\nRows: %d and Columns: %d \\n\" %df_3.shape)"
      ],
      "execution_count": 45,
      "outputs": [
        {
          "output_type": "stream",
          "text": [
            "CSV 1\n",
            "Rows: 98888 and Columns: 17 \n",
            "\n",
            "CSV 2\n",
            "Rows: 19782 and Columns: 17 \n",
            "\n",
            "CSV 3\n",
            "Rows: 70894 and Columns: 17 \n",
            "\n"
          ],
          "name": "stdout"
        },
        {
          "output_type": "stream",
          "text": [
            "/usr/local/lib/python3.7/dist-packages/IPython/core/interactiveshell.py:2718: DtypeWarning: Columns (0) have mixed types.Specify dtype option on import or set low_memory=False.\n",
            "  interactivity=interactivity, compiler=compiler, result=result)\n"
          ],
          "name": "stderr"
        }
      ]
    },
    {
      "cell_type": "markdown",
      "metadata": {
        "id": "5RHJe5SvDYiA"
      },
      "source": [
        "Merge the Dataframes"
      ]
    },
    {
      "cell_type": "code",
      "metadata": {
        "colab": {
          "base_uri": "https://localhost:8080/"
        },
        "id": "65gKPCRpDvB7",
        "outputId": "687e1716-84ea-4bd5-b1c9-265934ad6c9e"
      },
      "source": [
        "#merge multiple dataframes into a new dataframe\n",
        "df=pd.concat([df_1,df_2,df_3])\n",
        "\n",
        "#calculate total rows and columns in new dataframe\n",
        "print(\"Total Rows: %d and Total Columns: %d \\n\" %df.shape)"
      ],
      "execution_count": 46,
      "outputs": [
        {
          "output_type": "stream",
          "text": [
            "Total Rows: 189564 and Total Columns: 17 \n",
            "\n"
          ],
          "name": "stdout"
        }
      ]
    },
    {
      "cell_type": "markdown",
      "metadata": {
        "id": "rJyepgpOEVz_"
      },
      "source": [
        "## Cleaning Dataset"
      ]
    },
    {
      "cell_type": "markdown",
      "metadata": {
        "id": "Ws16ZjuKoK7n"
      },
      "source": [
        "### Remove Duplicates"
      ]
    },
    {
      "cell_type": "code",
      "metadata": {
        "colab": {
          "base_uri": "https://localhost:8080/",
          "height": 345
        },
        "id": "8Ij3dwB7Ewxj",
        "outputId": "919d2e08-d8db-48b3-a158-d98566f15539"
      },
      "source": [
        "#Remove Duplicates\n",
        "df=df.drop_duplicates()\n",
        "print('Number of rows and columns after remove the duplicates: ',df.shape,'\\n')\n",
        "df.head(5)"
      ],
      "execution_count": 47,
      "outputs": [
        {
          "output_type": "stream",
          "text": [
            "Number of rows and columns after remove the duplicates:  (189403, 17) \n",
            "\n"
          ],
          "name": "stdout"
        },
        {
          "output_type": "execute_result",
          "data": {
            "text/html": [
              "<div>\n",
              "<style scoped>\n",
              "    .dataframe tbody tr th:only-of-type {\n",
              "        vertical-align: middle;\n",
              "    }\n",
              "\n",
              "    .dataframe tbody tr th {\n",
              "        vertical-align: top;\n",
              "    }\n",
              "\n",
              "    .dataframe thead th {\n",
              "        text-align: right;\n",
              "    }\n",
              "</style>\n",
              "<table border=\"1\" class=\"dataframe\">\n",
              "  <thead>\n",
              "    <tr style=\"text-align: right;\">\n",
              "      <th></th>\n",
              "      <th>INCIDENT_NUMBER</th>\n",
              "      <th>OFFENSE_CODE</th>\n",
              "      <th>OFFENSE_CODE_GROUP</th>\n",
              "      <th>OFFENSE_DESCRIPTION</th>\n",
              "      <th>DISTRICT</th>\n",
              "      <th>REPORTING_AREA</th>\n",
              "      <th>SHOOTING</th>\n",
              "      <th>OCCURRED_ON_DATE</th>\n",
              "      <th>YEAR</th>\n",
              "      <th>MONTH</th>\n",
              "      <th>DAY_OF_WEEK</th>\n",
              "      <th>HOUR</th>\n",
              "      <th>UCR_PART</th>\n",
              "      <th>STREET</th>\n",
              "      <th>Lat</th>\n",
              "      <th>Long</th>\n",
              "      <th>Location</th>\n",
              "    </tr>\n",
              "  </thead>\n",
              "  <tbody>\n",
              "    <tr>\n",
              "      <th>0</th>\n",
              "      <td>I192077559</td>\n",
              "      <td>3115</td>\n",
              "      <td>Investigate Person</td>\n",
              "      <td>INVESTIGATE PERSON</td>\n",
              "      <td>B3</td>\n",
              "      <td>468</td>\n",
              "      <td>NaN</td>\n",
              "      <td>2018-04-30 09:00:00</td>\n",
              "      <td>2018</td>\n",
              "      <td>4</td>\n",
              "      <td>Monday</td>\n",
              "      <td>9</td>\n",
              "      <td>Part Three</td>\n",
              "      <td>HAZLETON ST</td>\n",
              "      <td>42.279971</td>\n",
              "      <td>-71.095534</td>\n",
              "      <td>(42.27997063, -71.09553354)</td>\n",
              "    </tr>\n",
              "    <tr>\n",
              "      <th>1</th>\n",
              "      <td>I192077332</td>\n",
              "      <td>619</td>\n",
              "      <td>Larceny</td>\n",
              "      <td>LARCENY ALL OTHERS</td>\n",
              "      <td>E18</td>\n",
              "      <td>496</td>\n",
              "      <td>NaN</td>\n",
              "      <td>2018-03-06 08:00:00</td>\n",
              "      <td>2018</td>\n",
              "      <td>3</td>\n",
              "      <td>Tuesday</td>\n",
              "      <td>8</td>\n",
              "      <td>Part One</td>\n",
              "      <td>HYDE PARK AVE</td>\n",
              "      <td>42.269224</td>\n",
              "      <td>-71.120853</td>\n",
              "      <td>(42.26922388, -71.12085347)</td>\n",
              "    </tr>\n",
              "    <tr>\n",
              "      <th>2</th>\n",
              "      <td>I192076660</td>\n",
              "      <td>2629</td>\n",
              "      <td>Harassment</td>\n",
              "      <td>HARASSMENT</td>\n",
              "      <td>E5</td>\n",
              "      <td>662</td>\n",
              "      <td>NaN</td>\n",
              "      <td>2018-10-31 12:00:00</td>\n",
              "      <td>2018</td>\n",
              "      <td>10</td>\n",
              "      <td>Wednesday</td>\n",
              "      <td>12</td>\n",
              "      <td>Part Two</td>\n",
              "      <td>PRIMROSE ST</td>\n",
              "      <td>42.290765</td>\n",
              "      <td>-71.130211</td>\n",
              "      <td>(42.29076521, -71.13021098)</td>\n",
              "    </tr>\n",
              "    <tr>\n",
              "      <th>3</th>\n",
              "      <td>I192075386</td>\n",
              "      <td>2629</td>\n",
              "      <td>Harassment</td>\n",
              "      <td>HARASSMENT</td>\n",
              "      <td>A1</td>\n",
              "      <td>96</td>\n",
              "      <td>NaN</td>\n",
              "      <td>2018-04-09 08:43:00</td>\n",
              "      <td>2018</td>\n",
              "      <td>4</td>\n",
              "      <td>Monday</td>\n",
              "      <td>8</td>\n",
              "      <td>Part Two</td>\n",
              "      <td>ATLANTIC AVE</td>\n",
              "      <td>42.355264</td>\n",
              "      <td>-71.050988</td>\n",
              "      <td>(42.35526402, -71.05098788)</td>\n",
              "    </tr>\n",
              "    <tr>\n",
              "      <th>4</th>\n",
              "      <td>I192075335</td>\n",
              "      <td>3208</td>\n",
              "      <td>Property Lost</td>\n",
              "      <td>PROPERTY - MISSING</td>\n",
              "      <td>D4</td>\n",
              "      <td>132</td>\n",
              "      <td>NaN</td>\n",
              "      <td>2018-01-01 00:00:00</td>\n",
              "      <td>2018</td>\n",
              "      <td>1</td>\n",
              "      <td>Monday</td>\n",
              "      <td>0</td>\n",
              "      <td>Part Three</td>\n",
              "      <td>COMMONWEALTH AVE</td>\n",
              "      <td>42.353522</td>\n",
              "      <td>-71.072838</td>\n",
              "      <td>(42.35352153, -71.07283786)</td>\n",
              "    </tr>\n",
              "  </tbody>\n",
              "</table>\n",
              "</div>"
            ],
            "text/plain": [
              "  INCIDENT_NUMBER  OFFENSE_CODE  ...       Long                     Location\n",
              "0      I192077559          3115  ... -71.095534  (42.27997063, -71.09553354)\n",
              "1      I192077332           619  ... -71.120853  (42.26922388, -71.12085347)\n",
              "2      I192076660          2629  ... -71.130211  (42.29076521, -71.13021098)\n",
              "3      I192075386          2629  ... -71.050988  (42.35526402, -71.05098788)\n",
              "4      I192075335          3208  ... -71.072838  (42.35352153, -71.07283786)\n",
              "\n",
              "[5 rows x 17 columns]"
            ]
          },
          "metadata": {
            "tags": []
          },
          "execution_count": 47
        }
      ]
    },
    {
      "cell_type": "markdown",
      "metadata": {
        "id": "NWAVFwgQoTMy"
      },
      "source": [
        "### Handling Missing Values"
      ]
    },
    {
      "cell_type": "markdown",
      "metadata": {
        "id": "IYU_H9SqvLsh"
      },
      "source": [
        "Check missing (null) values from each column"
      ]
    },
    {
      "cell_type": "code",
      "metadata": {
        "colab": {
          "base_uri": "https://localhost:8080/"
        },
        "id": "RqaOQpqXFsFT",
        "outputId": "923cd451-ea43-48da-912e-63c87fecbc96"
      },
      "source": [
        "print('Missing values from each column:')\n",
        "df.isnull().sum()"
      ],
      "execution_count": 48,
      "outputs": [
        {
          "output_type": "stream",
          "text": [
            "Missing values from each column:\n"
          ],
          "name": "stdout"
        },
        {
          "output_type": "execute_result",
          "data": {
            "text/plain": [
              "INCIDENT_NUMBER            0\n",
              "OFFENSE_CODE               0\n",
              "OFFENSE_CODE_GROUP     90676\n",
              "OFFENSE_DESCRIPTION        0\n",
              "DISTRICT                1037\n",
              "REPORTING_AREA             0\n",
              "SHOOTING               98408\n",
              "OCCURRED_ON_DATE           0\n",
              "YEAR                       0\n",
              "MONTH                      0\n",
              "DAY_OF_WEEK                0\n",
              "HOUR                       0\n",
              "UCR_PART               90696\n",
              "STREET                  1611\n",
              "Lat                     6421\n",
              "Long                    6421\n",
              "Location                   0\n",
              "dtype: int64"
            ]
          },
          "metadata": {
            "tags": []
          },
          "execution_count": 48
        }
      ]
    },
    {
      "cell_type": "markdown",
      "metadata": {
        "id": "Kko5kf-VI6SU"
      },
      "source": [
        "### 'SHOOTING' and 'UCR_PART' column"
      ]
    },
    {
      "cell_type": "markdown",
      "metadata": {
        "id": "5Uud_XEvvbi8"
      },
      "source": [
        "We can remove 'SHOOTING' and 'UCR_PART' column since the columns doesn't provide important informations."
      ]
    },
    {
      "cell_type": "code",
      "metadata": {
        "colab": {
          "base_uri": "https://localhost:8080/",
          "height": 310
        },
        "id": "LEQ5rUUfKDqI",
        "outputId": "08245cbc-2346-483e-b331-22e8773f5633"
      },
      "source": [
        "df=df.drop(['SHOOTING','UCR_PART'],axis=1)\n",
        "df.head(5)"
      ],
      "execution_count": 49,
      "outputs": [
        {
          "output_type": "execute_result",
          "data": {
            "text/html": [
              "<div>\n",
              "<style scoped>\n",
              "    .dataframe tbody tr th:only-of-type {\n",
              "        vertical-align: middle;\n",
              "    }\n",
              "\n",
              "    .dataframe tbody tr th {\n",
              "        vertical-align: top;\n",
              "    }\n",
              "\n",
              "    .dataframe thead th {\n",
              "        text-align: right;\n",
              "    }\n",
              "</style>\n",
              "<table border=\"1\" class=\"dataframe\">\n",
              "  <thead>\n",
              "    <tr style=\"text-align: right;\">\n",
              "      <th></th>\n",
              "      <th>INCIDENT_NUMBER</th>\n",
              "      <th>OFFENSE_CODE</th>\n",
              "      <th>OFFENSE_CODE_GROUP</th>\n",
              "      <th>OFFENSE_DESCRIPTION</th>\n",
              "      <th>DISTRICT</th>\n",
              "      <th>REPORTING_AREA</th>\n",
              "      <th>OCCURRED_ON_DATE</th>\n",
              "      <th>YEAR</th>\n",
              "      <th>MONTH</th>\n",
              "      <th>DAY_OF_WEEK</th>\n",
              "      <th>HOUR</th>\n",
              "      <th>STREET</th>\n",
              "      <th>Lat</th>\n",
              "      <th>Long</th>\n",
              "      <th>Location</th>\n",
              "    </tr>\n",
              "  </thead>\n",
              "  <tbody>\n",
              "    <tr>\n",
              "      <th>0</th>\n",
              "      <td>I192077559</td>\n",
              "      <td>3115</td>\n",
              "      <td>Investigate Person</td>\n",
              "      <td>INVESTIGATE PERSON</td>\n",
              "      <td>B3</td>\n",
              "      <td>468</td>\n",
              "      <td>2018-04-30 09:00:00</td>\n",
              "      <td>2018</td>\n",
              "      <td>4</td>\n",
              "      <td>Monday</td>\n",
              "      <td>9</td>\n",
              "      <td>HAZLETON ST</td>\n",
              "      <td>42.279971</td>\n",
              "      <td>-71.095534</td>\n",
              "      <td>(42.27997063, -71.09553354)</td>\n",
              "    </tr>\n",
              "    <tr>\n",
              "      <th>1</th>\n",
              "      <td>I192077332</td>\n",
              "      <td>619</td>\n",
              "      <td>Larceny</td>\n",
              "      <td>LARCENY ALL OTHERS</td>\n",
              "      <td>E18</td>\n",
              "      <td>496</td>\n",
              "      <td>2018-03-06 08:00:00</td>\n",
              "      <td>2018</td>\n",
              "      <td>3</td>\n",
              "      <td>Tuesday</td>\n",
              "      <td>8</td>\n",
              "      <td>HYDE PARK AVE</td>\n",
              "      <td>42.269224</td>\n",
              "      <td>-71.120853</td>\n",
              "      <td>(42.26922388, -71.12085347)</td>\n",
              "    </tr>\n",
              "    <tr>\n",
              "      <th>2</th>\n",
              "      <td>I192076660</td>\n",
              "      <td>2629</td>\n",
              "      <td>Harassment</td>\n",
              "      <td>HARASSMENT</td>\n",
              "      <td>E5</td>\n",
              "      <td>662</td>\n",
              "      <td>2018-10-31 12:00:00</td>\n",
              "      <td>2018</td>\n",
              "      <td>10</td>\n",
              "      <td>Wednesday</td>\n",
              "      <td>12</td>\n",
              "      <td>PRIMROSE ST</td>\n",
              "      <td>42.290765</td>\n",
              "      <td>-71.130211</td>\n",
              "      <td>(42.29076521, -71.13021098)</td>\n",
              "    </tr>\n",
              "    <tr>\n",
              "      <th>3</th>\n",
              "      <td>I192075386</td>\n",
              "      <td>2629</td>\n",
              "      <td>Harassment</td>\n",
              "      <td>HARASSMENT</td>\n",
              "      <td>A1</td>\n",
              "      <td>96</td>\n",
              "      <td>2018-04-09 08:43:00</td>\n",
              "      <td>2018</td>\n",
              "      <td>4</td>\n",
              "      <td>Monday</td>\n",
              "      <td>8</td>\n",
              "      <td>ATLANTIC AVE</td>\n",
              "      <td>42.355264</td>\n",
              "      <td>-71.050988</td>\n",
              "      <td>(42.35526402, -71.05098788)</td>\n",
              "    </tr>\n",
              "    <tr>\n",
              "      <th>4</th>\n",
              "      <td>I192075335</td>\n",
              "      <td>3208</td>\n",
              "      <td>Property Lost</td>\n",
              "      <td>PROPERTY - MISSING</td>\n",
              "      <td>D4</td>\n",
              "      <td>132</td>\n",
              "      <td>2018-01-01 00:00:00</td>\n",
              "      <td>2018</td>\n",
              "      <td>1</td>\n",
              "      <td>Monday</td>\n",
              "      <td>0</td>\n",
              "      <td>COMMONWEALTH AVE</td>\n",
              "      <td>42.353522</td>\n",
              "      <td>-71.072838</td>\n",
              "      <td>(42.35352153, -71.07283786)</td>\n",
              "    </tr>\n",
              "  </tbody>\n",
              "</table>\n",
              "</div>"
            ],
            "text/plain": [
              "  INCIDENT_NUMBER  OFFENSE_CODE  ...       Long                     Location\n",
              "0      I192077559          3115  ... -71.095534  (42.27997063, -71.09553354)\n",
              "1      I192077332           619  ... -71.120853  (42.26922388, -71.12085347)\n",
              "2      I192076660          2629  ... -71.130211  (42.29076521, -71.13021098)\n",
              "3      I192075386          2629  ... -71.050988  (42.35526402, -71.05098788)\n",
              "4      I192075335          3208  ... -71.072838  (42.35352153, -71.07283786)\n",
              "\n",
              "[5 rows x 15 columns]"
            ]
          },
          "metadata": {
            "tags": []
          },
          "execution_count": 49
        }
      ]
    },
    {
      "cell_type": "markdown",
      "metadata": {
        "id": "XIlASUtZMRzV"
      },
      "source": [
        "### Filing 'OFFENSE_CODE_GROUP' missing values"
      ]
    },
    {
      "cell_type": "markdown",
      "metadata": {
        "id": "jk4mDDlXvlR6"
      },
      "source": [
        "'OFFENSE_CODE_GROUP' seems to be paired with 'OFFENSE_CODE'. So, we'll fill missing values at 'OFFENSE_CODE_GROUP' based on their 'OFFENSE_CODE'."
      ]
    },
    {
      "cell_type": "code",
      "metadata": {
        "id": "0J6nxYlXNVVZ"
      },
      "source": [
        "#Create df_offense to be merged with df for filling missing values on offense_code_group\n",
        "df_offense=df[['OFFENSE_CODE','OFFENSE_CODE_GROUP']]\n",
        "df_offense=df_offense.dropna()\n",
        "df_offense=df_offense.drop_duplicates()\n",
        "df=df.merge(df_offense,on='OFFENSE_CODE',how='left')"
      ],
      "execution_count": 50,
      "outputs": []
    },
    {
      "cell_type": "code",
      "metadata": {
        "colab": {
          "base_uri": "https://localhost:8080/"
        },
        "id": "qL6kptuWZ5fo",
        "outputId": "4f8b80a7-93f5-4590-fe39-f76c3923e5bb"
      },
      "source": [
        "df['OFFENSE_CODE_GROUP_x']=df['OFFENSE_CODE_GROUP_y']\n",
        "df.rename(columns = {'OFFENSE_CODE_GROUP_x':'OFFENSE_CODE_GROUP'}, inplace = True)\n",
        "df.drop('OFFENSE_CODE_GROUP_y', axis=1, inplace=True)\n",
        "df.isnull().sum()"
      ],
      "execution_count": 51,
      "outputs": [
        {
          "output_type": "execute_result",
          "data": {
            "text/plain": [
              "INCIDENT_NUMBER           0\n",
              "OFFENSE_CODE              0\n",
              "OFFENSE_CODE_GROUP     6036\n",
              "OFFENSE_DESCRIPTION       0\n",
              "DISTRICT               1037\n",
              "REPORTING_AREA            0\n",
              "OCCURRED_ON_DATE          0\n",
              "YEAR                      0\n",
              "MONTH                     0\n",
              "DAY_OF_WEEK               0\n",
              "HOUR                      0\n",
              "STREET                 1611\n",
              "Lat                    6421\n",
              "Long                   6421\n",
              "Location                  0\n",
              "dtype: int64"
            ]
          },
          "metadata": {
            "tags": []
          },
          "execution_count": 51
        }
      ]
    },
    {
      "cell_type": "markdown",
      "metadata": {
        "id": "qrlFMKYu4BUa"
      },
      "source": [
        "Check Remaining Offense_Code_Group based on the Offense_Code"
      ]
    },
    {
      "cell_type": "code",
      "metadata": {
        "colab": {
          "base_uri": "https://localhost:8080/"
        },
        "id": "v1CKDKJc4Uc1",
        "outputId": "7c318959-c5e0-4b43-e346-05cb6e8f0708"
      },
      "source": [
        "df_missed=df[df['OFFENSE_CODE_GROUP'].isnull()]\n",
        "df_missed.OFFENSE_CODE.value_counts()"
      ],
      "execution_count": 52,
      "outputs": [
        {
          "output_type": "execute_result",
          "data": {
            "text/plain": [
              "3005     5236\n",
              "3126      455\n",
              "641       115\n",
              "2671       94\n",
              "531        62\n",
              "736        36\n",
              "3300       11\n",
              "3100        4\n",
              "2950        3\n",
              "400         3\n",
              "3200        3\n",
              "300         2\n",
              "500         2\n",
              "1400        2\n",
              "800         2\n",
              "600         1\n",
              "99999       1\n",
              "1500        1\n",
              "1800        1\n",
              "990         1\n",
              "2600        1\n",
              "Name: OFFENSE_CODE, dtype: int64"
            ]
          },
          "metadata": {
            "tags": []
          },
          "execution_count": 52
        }
      ]
    },
    {
      "cell_type": "markdown",
      "metadata": {
        "id": "byLmTuwv4ujT"
      },
      "source": [
        "We could see that some of OFFENSE_CODE (e.g. 3005, 3126, 641, etc.) have pretty much records, so we couldn't ignore these records. It would be better if we try to fill OFFENSE_CODE_GROUP based on OFFENSE_DESCRIPTION."
      ]
    },
    {
      "cell_type": "code",
      "metadata": {
        "colab": {
          "base_uri": "https://localhost:8080/"
        },
        "id": "wI_f9WwI6Th2",
        "outputId": "80476608-1781-4b31-d3f2-dc8a7bcd69c7"
      },
      "source": [
        "#check existing offense_code_group name list\n",
        "df.OFFENSE_CODE_GROUP.unique()"
      ],
      "execution_count": 53,
      "outputs": [
        {
          "output_type": "execute_result",
          "data": {
            "text/plain": [
              "array(['Investigate Person', 'Larceny', 'Harassment', 'Property Lost',\n",
              "       'Fraud', 'Auto Theft', 'Counterfeiting', 'Confidence Games',\n",
              "       'Commercial Burglary', 'Vandalism', 'Other',\n",
              "       'Missing Person Reported', 'Police Service Incidents',\n",
              "       'License Plate Related Incidents', 'Residential Burglary',\n",
              "       'Simple Assault', 'Property Found', 'Larceny From Motor Vehicle',\n",
              "       'Medical Assistance', 'Motor Vehicle Accident Response',\n",
              "       'Aggravated Assault', 'Landlord/Tenant Disputes',\n",
              "       'Investigate Property', 'Auto Theft Recovery',\n",
              "       'Missing Person Located', 'Embezzlement', 'Violations',\n",
              "       'Criminal Harassment', 'Disorderly Conduct', 'Warrant Arrests',\n",
              "       'Other Burglary', 'Restraining Order Violations',\n",
              "       'Recovered Stolen Property', 'Service', 'Property Related Damage',\n",
              "       'Robbery', 'Towed', 'Evading Fare', 'License Violation',\n",
              "       'Verbal Disputes', 'Fire Related Reports', 'Firearm Violations',\n",
              "       'Search Warrants', 'Operating Under the Influence',\n",
              "       'Drug Violation', 'Prisoner Related Incidents',\n",
              "       'Firearm Discovery', 'Ballistics', 'Liquor Violation', 'Homicide',\n",
              "       'Offenses Against Child / Family', 'Harbor Related Incidents',\n",
              "       'Arson', 'Assembly or Gathering Violations', 'Bomb Hoax',\n",
              "       'Aircraft', 'Phone Call Complaints', 'Prostitution',\n",
              "       'HUMAN TRAFFICKING', 'HOME INVASION', 'Explosives', nan],\n",
              "      dtype=object)"
            ]
          },
          "metadata": {
            "tags": []
          },
          "execution_count": 53
        }
      ]
    },
    {
      "cell_type": "code",
      "metadata": {
        "colab": {
          "base_uri": "https://localhost:8080/",
          "height": 701
        },
        "id": "m77O0Nzx7Ci_",
        "outputId": "2eff5840-0e1d-4149-f090-edf7ebc7a3da"
      },
      "source": [
        "df_missed=df_missed[['OFFENSE_CODE','OFFENSE_DESCRIPTION']]\n",
        "df_missed=df_missed.drop_duplicates()\n",
        "df_missed"
      ],
      "execution_count": 54,
      "outputs": [
        {
          "output_type": "execute_result",
          "data": {
            "text/html": [
              "<div>\n",
              "<style scoped>\n",
              "    .dataframe tbody tr th:only-of-type {\n",
              "        vertical-align: middle;\n",
              "    }\n",
              "\n",
              "    .dataframe tbody tr th {\n",
              "        vertical-align: top;\n",
              "    }\n",
              "\n",
              "    .dataframe thead th {\n",
              "        text-align: right;\n",
              "    }\n",
              "</style>\n",
              "<table border=\"1\" class=\"dataframe\">\n",
              "  <thead>\n",
              "    <tr style=\"text-align: right;\">\n",
              "      <th></th>\n",
              "      <th>OFFENSE_CODE</th>\n",
              "      <th>OFFENSE_DESCRIPTION</th>\n",
              "    </tr>\n",
              "  </thead>\n",
              "  <tbody>\n",
              "    <tr>\n",
              "      <th>98747</th>\n",
              "      <td>3005</td>\n",
              "      <td>SICK ASSIST</td>\n",
              "    </tr>\n",
              "    <tr>\n",
              "      <th>99388</th>\n",
              "      <td>3126</td>\n",
              "      <td>WARRANT ARREST - OUTSIDE OF BOSTON WARRANT</td>\n",
              "    </tr>\n",
              "    <tr>\n",
              "      <th>99519</th>\n",
              "      <td>531</td>\n",
              "      <td>BREAKING AND ENTERING (B&amp;E) MOTOR VEHICLE (NO ...</td>\n",
              "    </tr>\n",
              "    <tr>\n",
              "      <th>99583</th>\n",
              "      <td>2671</td>\n",
              "      <td>VIOLATION - HARASSMENT PREVENTION ORDER</td>\n",
              "    </tr>\n",
              "    <tr>\n",
              "      <th>99607</th>\n",
              "      <td>641</td>\n",
              "      <td>BREAKING AND ENTERING (B&amp;E) MOTOR VEHICLE</td>\n",
              "    </tr>\n",
              "    <tr>\n",
              "      <th>107169</th>\n",
              "      <td>736</td>\n",
              "      <td>RECOVERED - MV RECOVERED IN BOSTON (STOLEN IN ...</td>\n",
              "    </tr>\n",
              "    <tr>\n",
              "      <th>118403</th>\n",
              "      <td>3100</td>\n",
              "      <td>Migrated Report - Investigate Property</td>\n",
              "    </tr>\n",
              "    <tr>\n",
              "      <th>118404</th>\n",
              "      <td>3200</td>\n",
              "      <td>Migrated Report - Investigate Person</td>\n",
              "    </tr>\n",
              "    <tr>\n",
              "      <th>118405</th>\n",
              "      <td>3300</td>\n",
              "      <td>Migrated Report - Other Part III</td>\n",
              "    </tr>\n",
              "    <tr>\n",
              "      <th>118406</th>\n",
              "      <td>1400</td>\n",
              "      <td>Migrated Report - Vandalism/Destruction of Pro...</td>\n",
              "    </tr>\n",
              "    <tr>\n",
              "      <th>118407</th>\n",
              "      <td>2950</td>\n",
              "      <td>Migrated Report - Motor Vehicle Crash</td>\n",
              "    </tr>\n",
              "    <tr>\n",
              "      <th>118411</th>\n",
              "      <td>500</td>\n",
              "      <td>Migrated Report - Burglary/Breaking and Entering</td>\n",
              "    </tr>\n",
              "    <tr>\n",
              "      <th>118414</th>\n",
              "      <td>400</td>\n",
              "      <td>Migrated Report - Aggravated Assault/Aggravate...</td>\n",
              "    </tr>\n",
              "    <tr>\n",
              "      <th>118420</th>\n",
              "      <td>600</td>\n",
              "      <td>Migrated Report - Other Larceny</td>\n",
              "    </tr>\n",
              "    <tr>\n",
              "      <th>118421</th>\n",
              "      <td>1500</td>\n",
              "      <td>Migrated Report - Weapons Violation</td>\n",
              "    </tr>\n",
              "    <tr>\n",
              "      <th>118424</th>\n",
              "      <td>800</td>\n",
              "      <td>Migrated Report - Assault/Assault &amp; Battery</td>\n",
              "    </tr>\n",
              "    <tr>\n",
              "      <th>118430</th>\n",
              "      <td>300</td>\n",
              "      <td>Migrated Report - Robbery</td>\n",
              "    </tr>\n",
              "    <tr>\n",
              "      <th>118438</th>\n",
              "      <td>2600</td>\n",
              "      <td>Migrated Report - Other Part II</td>\n",
              "    </tr>\n",
              "    <tr>\n",
              "      <th>118443</th>\n",
              "      <td>1800</td>\n",
              "      <td>Migrated Report - Drugs - Possession/Manufactu...</td>\n",
              "    </tr>\n",
              "    <tr>\n",
              "      <th>145630</th>\n",
              "      <td>99999</td>\n",
              "      <td>Evidence Tracker Incidents</td>\n",
              "    </tr>\n",
              "    <tr>\n",
              "      <th>179694</th>\n",
              "      <td>990</td>\n",
              "      <td>Justifiable Homicide</td>\n",
              "    </tr>\n",
              "  </tbody>\n",
              "</table>\n",
              "</div>"
            ],
            "text/plain": [
              "        OFFENSE_CODE                                OFFENSE_DESCRIPTION\n",
              "98747           3005                                        SICK ASSIST\n",
              "99388           3126         WARRANT ARREST - OUTSIDE OF BOSTON WARRANT\n",
              "99519            531  BREAKING AND ENTERING (B&E) MOTOR VEHICLE (NO ...\n",
              "99583           2671            VIOLATION - HARASSMENT PREVENTION ORDER\n",
              "99607            641          BREAKING AND ENTERING (B&E) MOTOR VEHICLE\n",
              "107169           736  RECOVERED - MV RECOVERED IN BOSTON (STOLEN IN ...\n",
              "118403          3100             Migrated Report - Investigate Property\n",
              "118404          3200               Migrated Report - Investigate Person\n",
              "118405          3300                   Migrated Report - Other Part III\n",
              "118406          1400  Migrated Report - Vandalism/Destruction of Pro...\n",
              "118407          2950              Migrated Report - Motor Vehicle Crash\n",
              "118411           500   Migrated Report - Burglary/Breaking and Entering\n",
              "118414           400  Migrated Report - Aggravated Assault/Aggravate...\n",
              "118420           600                    Migrated Report - Other Larceny\n",
              "118421          1500                Migrated Report - Weapons Violation\n",
              "118424           800        Migrated Report - Assault/Assault & Battery\n",
              "118430           300                          Migrated Report - Robbery\n",
              "118438          2600                    Migrated Report - Other Part II\n",
              "118443          1800  Migrated Report - Drugs - Possession/Manufactu...\n",
              "145630         99999                         Evidence Tracker Incidents\n",
              "179694           990                               Justifiable Homicide"
            ]
          },
          "metadata": {
            "tags": []
          },
          "execution_count": 54
        }
      ]
    },
    {
      "cell_type": "markdown",
      "metadata": {
        "id": "pM4_LdPB_Br5"
      },
      "source": [
        "Fill OFFENSE_CODE_GROUP missing values which the OFFENSE_CODE have pretty much records"
      ]
    },
    {
      "cell_type": "code",
      "metadata": {
        "colab": {
          "base_uri": "https://localhost:8080/"
        },
        "id": "zZxIyGzE_com",
        "outputId": "f393ef1a-5f5c-4f17-ac89-8e6a55e2d87d"
      },
      "source": [
        "df['OFFENSE_CODE_GROUP'] = df['OFFENSE_CODE_GROUP'].fillna(df['OFFENSE_CODE'].map({ \\\n",
        "                            3005:'Sick Assist', 3126:'Warrant Arrests',531:'Breaking and Entering (B&E) Motor Vehicle', \\\n",
        "                            641:'Breaking and Entering (B&E) Motor Vehicle',2671:'Violations', \\\n",
        "                            990: 'Justifiable Homicide'}))\n",
        "df.isnull().sum()"
      ],
      "execution_count": 55,
      "outputs": [
        {
          "output_type": "execute_result",
          "data": {
            "text/plain": [
              "INCIDENT_NUMBER           0\n",
              "OFFENSE_CODE              0\n",
              "OFFENSE_CODE_GROUP       73\n",
              "OFFENSE_DESCRIPTION       0\n",
              "DISTRICT               1037\n",
              "REPORTING_AREA            0\n",
              "OCCURRED_ON_DATE          0\n",
              "YEAR                      0\n",
              "MONTH                     0\n",
              "DAY_OF_WEEK               0\n",
              "HOUR                      0\n",
              "STREET                 1611\n",
              "Lat                    6421\n",
              "Long                   6421\n",
              "Location                  0\n",
              "dtype: int64"
            ]
          },
          "metadata": {
            "tags": []
          },
          "execution_count": 55
        }
      ]
    },
    {
      "cell_type": "markdown",
      "metadata": {
        "id": "hx_Ei4-evGe2"
      },
      "source": [
        "### Filling Latitude and Longitude Missing Values"
      ]
    },
    {
      "cell_type": "markdown",
      "metadata": {
        "id": "_TT7Y2XEvYgA"
      },
      "source": [
        "The 'Location' column contains latitude and longitude values. Also, it doesn't have any missing value, so we can take the location values to fill the 'Lat' and 'Long' missing values."
      ]
    },
    {
      "cell_type": "code",
      "metadata": {
        "colab": {
          "base_uri": "https://localhost:8080/"
        },
        "id": "TYbmG1vruXhX",
        "outputId": "6185af4e-04e4-474e-b683-86089730cea7"
      },
      "source": [
        "#make temporary column for latitude and longitude, and get the values from Location column by splitting the column\n",
        "df[['Lat_2','Long_2']]=df.Location.str.split(\",\",expand=True,)\n",
        "df[['Lat_2']]=df['Lat_2'].map(lambda x: x.lstrip(' (')).astype(float)\n",
        "df[['Long_2']]=df['Long_2'].map(lambda x: x.rstrip(') ')).astype(float)\n",
        "\n",
        "#filling the missing values\n",
        "df['Lat']=df['Lat'].fillna(df['Lat_2'])\n",
        "df['Long']=df['Long'].fillna(df['Long_2'])\n",
        "\n",
        "#remove the temporary columns\n",
        "df.drop(['Lat_2','Long_2'], axis=1, inplace=True)\n",
        "df.isnull().sum()"
      ],
      "execution_count": 56,
      "outputs": [
        {
          "output_type": "execute_result",
          "data": {
            "text/plain": [
              "INCIDENT_NUMBER           0\n",
              "OFFENSE_CODE              0\n",
              "OFFENSE_CODE_GROUP       73\n",
              "OFFENSE_DESCRIPTION       0\n",
              "DISTRICT               1037\n",
              "REPORTING_AREA            0\n",
              "OCCURRED_ON_DATE          0\n",
              "YEAR                      0\n",
              "MONTH                     0\n",
              "DAY_OF_WEEK               0\n",
              "HOUR                      0\n",
              "STREET                 1611\n",
              "Lat                       0\n",
              "Long                      0\n",
              "Location                  0\n",
              "dtype: int64"
            ]
          },
          "metadata": {
            "tags": []
          },
          "execution_count": 56
        }
      ]
    },
    {
      "cell_type": "markdown",
      "metadata": {
        "id": "UMWBYFAZEc1R"
      },
      "source": [
        "### Remove Remaining Rows with Missing Values in District and OFFENSE_CODE_GROUP"
      ]
    },
    {
      "cell_type": "code",
      "metadata": {
        "colab": {
          "base_uri": "https://localhost:8080/"
        },
        "id": "6NHr9SRM06wT",
        "outputId": "ad2c6329-5877-40c6-e617-dc8165f447a3"
      },
      "source": [
        "df=df.dropna(subset=['DISTRICT','OFFENSE_CODE_GROUP'])\n",
        "df.isnull().sum()"
      ],
      "execution_count": 57,
      "outputs": [
        {
          "output_type": "execute_result",
          "data": {
            "text/plain": [
              "INCIDENT_NUMBER           0\n",
              "OFFENSE_CODE              0\n",
              "OFFENSE_CODE_GROUP        0\n",
              "OFFENSE_DESCRIPTION       0\n",
              "DISTRICT                  0\n",
              "REPORTING_AREA            0\n",
              "OCCURRED_ON_DATE          0\n",
              "YEAR                      0\n",
              "MONTH                     0\n",
              "DAY_OF_WEEK               0\n",
              "HOUR                      0\n",
              "STREET                 1232\n",
              "Lat                       0\n",
              "Long                      0\n",
              "Location                  0\n",
              "dtype: int64"
            ]
          },
          "metadata": {
            "tags": []
          },
          "execution_count": 57
        }
      ]
    },
    {
      "cell_type": "markdown",
      "metadata": {
        "id": "8RW7CLgZHSki"
      },
      "source": [
        "### Check Data Types"
      ]
    },
    {
      "cell_type": "code",
      "metadata": {
        "colab": {
          "base_uri": "https://localhost:8080/"
        },
        "id": "kwgJJFZ9HWd1",
        "outputId": "4fb4366f-ba22-4ecc-9312-02222b1dc36c"
      },
      "source": [
        "df.dtypes"
      ],
      "execution_count": 58,
      "outputs": [
        {
          "output_type": "execute_result",
          "data": {
            "text/plain": [
              "INCIDENT_NUMBER         object\n",
              "OFFENSE_CODE             int64\n",
              "OFFENSE_CODE_GROUP      object\n",
              "OFFENSE_DESCRIPTION     object\n",
              "DISTRICT                object\n",
              "REPORTING_AREA          object\n",
              "OCCURRED_ON_DATE        object\n",
              "YEAR                     int64\n",
              "MONTH                    int64\n",
              "DAY_OF_WEEK             object\n",
              "HOUR                     int64\n",
              "STREET                  object\n",
              "Lat                    float64\n",
              "Long                   float64\n",
              "Location                object\n",
              "dtype: object"
            ]
          },
          "metadata": {
            "tags": []
          },
          "execution_count": 58
        }
      ]
    },
    {
      "cell_type": "markdown",
      "metadata": {
        "id": "Cw75qGcCFTIY"
      },
      "source": [
        "## Download Cleaned Dataset (CSV Form)"
      ]
    },
    {
      "cell_type": "code",
      "metadata": {
        "id": "WyhihGzwV49g"
      },
      "source": [
        "df.to_csv('cleaned_dataset.csv')"
      ],
      "execution_count": 35,
      "outputs": []
    },
    {
      "cell_type": "markdown",
      "metadata": {
        "id": "LjFWEcn6tAgi"
      },
      "source": [
        "## Other Insight"
      ]
    },
    {
      "cell_type": "code",
      "metadata": {
        "colab": {
          "base_uri": "https://localhost:8080/",
          "height": 982
        },
        "id": "648kJ3eetF3u",
        "outputId": "95ffe2be-cf16-4a88-9e19-367a0b964bba"
      },
      "source": [
        "plt.rcParams['figure.figsize'] = (20, 15)\n",
        "plt.style.use('dark_background')\n",
        "\n",
        "sns.countplot(df['YEAR'], order=df['YEAR'].value_counts().nlargest(25).index,palette = 'gnuplot')\n",
        "\n",
        "plt.title('Number of Crimes from Each Year', fontweight = 30, fontsize = 20)\n",
        "plt.xticks(rotation = 90, fontsize=15)\n",
        "plt.show()"
      ],
      "execution_count": 59,
      "outputs": [
        {
          "output_type": "stream",
          "text": [
            "/usr/local/lib/python3.7/dist-packages/seaborn/_decorators.py:43: FutureWarning: Pass the following variable as a keyword arg: x. From version 0.12, the only valid positional argument will be `data`, and passing other arguments without an explicit keyword will result in an error or misinterpretation.\n",
            "  FutureWarning\n"
          ],
          "name": "stderr"
        },
        {
          "output_type": "display_data",
          "data": {
            "image/png": "[encoded data removed]",
            "text/plain": [
              "<Figure size 1440x1080 with 1 Axes>"
            ]
          },
          "metadata": {
            "tags": []
          }
        }
      ]
    },
    {
      "cell_type": "markdown",
      "metadata": {
        "id": "51r0dcOubCHo"
      },
      "source": [
        "# 5. Python"
      ]
    },
    {
      "cell_type": "markdown",
      "metadata": {
        "id": "LSay9ISQgNQm"
      },
      "source": [
        "## Distrik dengan angka tindak kriminal tertinggi"
      ]
    },
    {
      "cell_type": "code",
      "metadata": {
        "colab": {
          "base_uri": "https://localhost:8080/"
        },
        "id": "0iWDWinSbG4f",
        "outputId": "00e943a6-875b-4562-91d1-5874a78c2343"
      },
      "source": [
        "#make a copied dataframe (df_new) so the original df doesn't change\n",
        "df_2 = df.copy(deep=True)\n",
        "df_2['district_mod']=df_2['DISTRICT'].str[:1]\n",
        "df_2.district_mod.value_counts().head(1)"
      ],
      "execution_count": 60,
      "outputs": [
        {
          "output_type": "execute_result",
          "data": {
            "text/plain": [
              "B    50302\n",
              "Name: district_mod, dtype: int64"
            ]
          },
          "metadata": {
            "tags": []
          },
          "execution_count": 60
        }
      ]
    },
    {
      "cell_type": "markdown",
      "metadata": {
        "id": "caypUQDzpKTt"
      },
      "source": [
        "## 3 jenis tindak kriminal yang terjadi pada tahun 2020 namun tidak terjadi di tahun 2019"
      ]
    },
    {
      "cell_type": "code",
      "metadata": {
        "colab": {
          "base_uri": "https://localhost:8080/"
        },
        "id": "1XWQGwGepRnb",
        "outputId": "548f4485-43a6-41ad-fd57-effca8fa1f01"
      },
      "source": [
        "crime_2019=df.loc[df['YEAR'] == 2019]\n",
        "crime_2020=df.loc[df['YEAR'] == 2020]\n",
        "crime_2019=crime_2019.OFFENSE_DESCRIPTION.unique()\n",
        "crime_2020=crime_2020.OFFENSE_DESCRIPTION.unique()\n",
        "\n",
        "crime_result=[]\n",
        "for crime in crime_2020:\n",
        "  if crime not in crime_2019:\n",
        "    crime_result.append(crime)\n",
        "\n",
        "print(crime_result)"
      ],
      "execution_count": null,
      "outputs": [
        {
          "output_type": "stream",
          "text": [
            "['TRUANCY / RUNAWAY', 'EXPLOSIVES - POSSESSION OR USE', 'OBSCENE PHONE CALLS', 'EXPLOSIVES - TURNED IN OR FOUND', 'Justifiable Homicide']\n"
          ],
          "name": "stdout"
        }
      ]
    },
    {
      "cell_type": "markdown",
      "metadata": {
        "id": "MnD_LwQZrrl6"
      },
      "source": [
        "## Kelompok tindak kriminal yang paling banyak terjadi pada minggu ke 40-45"
      ]
    },
    {
      "cell_type": "code",
      "metadata": {
        "colab": {
          "base_uri": "https://localhost:8080/"
        },
        "id": "jayKFoZkr0cH",
        "outputId": "9f5ebe6d-abb4-47b9-ba6f-ee44b53116fc"
      },
      "source": [
        "df_2['OCCURRED_ON_DATE'] = pd.to_datetime(df_2['OCCURRED_ON_DATE'], format='%Y-%m-%d %H:%M:%S')\n",
        "df_2['Week_Number'] = df_2['OCCURRED_ON_DATE'].dt.strftime('%U').astype(int)\n",
        "\n",
        "df_week=df_2[df_2.Week_Number>=40]\n",
        "df_week=df_week[df_week.Week_Number<=45]\n",
        "df_week.OFFENSE_CODE_GROUP.value_counts().head(1)"
      ],
      "execution_count": null,
      "outputs": [
        {
          "output_type": "execute_result",
          "data": {
            "text/plain": [
              "Motor Vehicle Accident Response    3696\n",
              "Name: OFFENSE_CODE_GROUP, dtype: int64"
            ]
          },
          "metadata": {
            "tags": []
          },
          "execution_count": 235
        }
      ]
    },
    {
      "cell_type": "markdown",
      "metadata": {
        "id": "ZxIExU2hYnWj"
      },
      "source": [
        "## Distrik yang memiliki jumlah tindak kriminal terkecil di akhir pekan"
      ]
    },
    {
      "cell_type": "code",
      "metadata": {
        "colab": {
          "base_uri": "https://localhost:8080/"
        },
        "id": "8jjn7iheY3mz",
        "outputId": "90115f55-ffee-4f8b-fb20-9ee814f74fee"
      },
      "source": [
        "df_weekend=df_2[(df_2.DAY_OF_WEEK=='Saturday')|(df_2.DAY_OF_WEEK=='Sunday')]\n",
        "df_weekend.district_mod.value_counts().tail(1)"
      ],
      "execution_count": null,
      "outputs": [
        {
          "output_type": "execute_result",
          "data": {
            "text/plain": [
              "E    7637\n",
              "Name: district_mod, dtype: int64"
            ]
          },
          "metadata": {
            "tags": []
          },
          "execution_count": 234
        }
      ]
    },
    {
      "cell_type": "markdown",
      "metadata": {
        "id": "v7AfvPzSfF1X"
      },
      "source": [
        "## Distrik yang memiliki jumlah tindak kriminal terbanyak di hari kerja"
      ]
    },
    {
      "cell_type": "code",
      "metadata": {
        "colab": {
          "base_uri": "https://localhost:8080/"
        },
        "id": "8831QwTefOdm",
        "outputId": "c3094ac9-8519-46d3-f579-496d391ecb39"
      },
      "source": [
        "df_weekday=df_2[(df_2.DAY_OF_WEEK!='Saturday')&(df_2.DAY_OF_WEEK!='Sunday')]\n",
        "df_weekday.district_mod.value_counts().head(1)"
      ],
      "execution_count": null,
      "outputs": [
        {
          "output_type": "execute_result",
          "data": {
            "text/plain": [
              "B    37100\n",
              "Name: district_mod, dtype: int64"
            ]
          },
          "metadata": {
            "tags": []
          },
          "execution_count": 238
        }
      ]
    },
    {
      "cell_type": "markdown",
      "metadata": {
        "id": "UZgJkfE4FFxM"
      },
      "source": [
        "# 6. Machine Learning"
      ]
    },
    {
      "cell_type": "markdown",
      "metadata": {
        "id": "KVJYPbbnLU8p"
      },
      "source": [
        "## Import Sklearn Libraries"
      ]
    },
    {
      "cell_type": "code",
      "metadata": {
        "id": "wTjE_Z2bLad6"
      },
      "source": [
        "from sklearn.tree import DecisionTreeClassifier # Import Decision Tree Classifier\n",
        "from sklearn.model_selection import train_test_split # Import train_test_split function\n",
        "from sklearn import metrics #Import scikit-learn metrics module for accuracy calculation\n",
        "from sklearn import preprocessing\n",
        "from sklearn import linear_model"
      ],
      "execution_count": 142,
      "outputs": []
    },
    {
      "cell_type": "markdown",
      "metadata": {
        "id": "fm41lOAfLkJm"
      },
      "source": [
        "## Feature Selection"
      ]
    },
    {
      "cell_type": "code",
      "metadata": {
        "id": "HvUEydr9ZgDJ"
      },
      "source": [
        "#district\n",
        "df_ml=df.copy(deep=True)\n",
        "df_ml['DISTRICT'] = df_ml['DISTRICT'].map({\n",
        "    'B3':1, \n",
        "    'E18':2, \n",
        "    'B2':3, \n",
        "    'E5':4, \n",
        "    'C6':5, \n",
        "    'D14':6, \n",
        "    'E13':7, \n",
        "    'C11':8, \n",
        "    'D4':9, \n",
        "    'A7':10, \n",
        "    'A1':11, \n",
        "    'A15':12,\n",
        "    'External':13\n",
        "})"
      ],
      "execution_count": 147,
      "outputs": []
    },
    {
      "cell_type": "code",
      "metadata": {
        "id": "ReffsSPAagwr"
      },
      "source": [
        "#Offense_Code\n",
        "df_ml['OFFENSE_CODE_GROUP'] = df_ml['OFFENSE_CODE_GROUP'].map({\n",
        "'Investigate Person':1,\n",
        "'Larceny':2,\n",
        "'Harassment':3,\n",
        "'Property Lost':4,\n",
        "'Fraud':5,\n",
        "'Auto Theft':6,\n",
        "'Counterfeiting':7,\n",
        "'Confidence Games':8,\n",
        "'Commercial Burglary':9,\n",
        "'Vandalism':10,\n",
        "'Other':11,\n",
        "'Missing Person Reported':12,\n",
        "'Police Service Incidents':13,\n",
        "'License Plate Related Incidents':14,\n",
        "'Residential Burglary':15,\n",
        "'Simple Assault':16,\n",
        "'Property Found':17,\n",
        "'Larceny From Motor Vehicle':18,\n",
        "'Medical Assistance':19,\n",
        "'Motor Vehicle Accident Response':20,\n",
        "'Aggravated Assault':21,\n",
        "'Landlord/Tenant Disputes':22,\n",
        "'Investigate Property':23,\n",
        "'Auto Theft Recovery':24,\n",
        "'Missing Person Located':25,\n",
        "'Embezzlement':26,\n",
        "'Violations':27,\n",
        "'Criminal Harassment':28,\n",
        "'Disorderly Conduct':29,\n",
        "'Warrant Arrests':30,\n",
        "'Other Burglary':31,\n",
        "'Restraining Order Violations':32,\n",
        "'Recovered Stolen Property':33,\n",
        "'Service':34,\n",
        "'Property Related Damage':35,\n",
        "'Robbery':36,\n",
        "'Towed':37,\n",
        "'Evading Fare':38,\n",
        "'License Violation':39,\n",
        "'Verbal Disputes':40,\n",
        "'Fire Related Reports':41,\n",
        "'Firearm Violations':42,\n",
        "'Search Warrants':43,\n",
        "'Operating Under the Influence':44,\n",
        "'Drug Violation':45,\n",
        "'Prisoner Related Incidents':46,\n",
        "'Firearm Discovery':47,\n",
        "'Ballistics':48,\n",
        "'Liquor Violation':49,\n",
        "'Homicide':50,\n",
        "'Offenses Against Child / Family':51,\n",
        "'Arson':52,\n",
        "'Assembly or Gathering Violations':53,\n",
        "'Harbor Related Incidents':54,\n",
        "'Bomb Hoax':55,\n",
        "'Aircraft':56,\n",
        "'Phone Call Complaints':57,\n",
        "'Prostitution':58,\n",
        "'HUMAN TRAFFICKING':59,\n",
        "'HOME INVASION':60,\n",
        "'Explosives':61,\n",
        "'Sick Assist':62,\n",
        "'Breaking and Entering (B&E) Motor Vehicle':63,\n",
        "'Justifiable Homicide':64\n",
        "})"
      ],
      "execution_count": 148,
      "outputs": []
    },
    {
      "cell_type": "code",
      "metadata": {
        "id": "58CUXLqmLjco"
      },
      "source": [
        "#split dataset in features and target variable\n",
        "le = preprocessing.LabelEncoder()\n",
        "le.fit([\"Monday\", \"Tuesday\", \"Wednesday\", \"Thursday\",\"Friday\", \"Saturday\", \"Sunday\"])\n",
        "df_ml['DAY_OF_WEEK']=le.transform(df_ml['DAY_OF_WEEK'])\n",
        "df_ml['DAY_OF_WEEK']\n",
        "\n",
        "\n",
        "feature_cols = ['YEAR','MONTH', 'DAY_OF_WEEK','OFFENSE_CODE_GROUP','DISTRICT']\n",
        "X = df_ml[feature_cols] # Features\n",
        "y = df_ml['HOUR'] # Target variable"
      ],
      "execution_count": 149,
      "outputs": []
    },
    {
      "cell_type": "markdown",
      "metadata": {
        "id": "dVuxzOMOMHrL"
      },
      "source": [
        "## Splitting Dataset"
      ]
    },
    {
      "cell_type": "code",
      "metadata": {
        "id": "j7q2BQ5bMMEt"
      },
      "source": [
        "# Split dataset into training set and test set\n",
        "X_train, X_test, y_train, y_test = train_test_split(X, y, test_size=0.3, random_state=1) # 70% training and 30% test"
      ],
      "execution_count": 150,
      "outputs": []
    },
    {
      "cell_type": "markdown",
      "metadata": {
        "id": "rwcfLJMILiwu"
      },
      "source": [
        "## Regresison Model"
      ]
    },
    {
      "cell_type": "code",
      "metadata": {
        "colab": {
          "base_uri": "https://localhost:8080/"
        },
        "id": "fyYcrjxTUN-E",
        "outputId": "94c1614a-0d08-4fa0-efc2-c99e5dc0fc0c"
      },
      "source": [
        "regr = linear_model.LinearRegression()\n",
        "regr.fit(X_train, y_train)"
      ],
      "execution_count": 151,
      "outputs": [
        {
          "output_type": "execute_result",
          "data": {
            "text/plain": [
              "LinearRegression(copy_X=True, fit_intercept=True, n_jobs=None, normalize=False)"
            ]
          },
          "metadata": {
            "tags": []
          },
          "execution_count": 151
        }
      ]
    },
    {
      "cell_type": "code",
      "metadata": {
        "colab": {
          "base_uri": "https://localhost:8080/"
        },
        "id": "CVxhT5ZKVXKb",
        "outputId": "08e60d69-27d9-4c7b-d984-885c13063978"
      },
      "source": [
        "regr.predict(X_test)\n",
        "regr.score(X_test,y_test)"
      ],
      "execution_count": 152,
      "outputs": [
        {
          "output_type": "execute_result",
          "data": {
            "text/plain": [
              "0.0010453828028405"
            ]
          },
          "metadata": {
            "tags": []
          },
          "execution_count": 152
        }
      ]
    },
    {
      "cell_type": "code",
      "metadata": {
        "colab": {
          "base_uri": "https://localhost:8080/"
        },
        "id": "fTqqOhQIUX_A",
        "outputId": "0ee69af3-aeb9-43ea-9d9a-f7191fe78e7f"
      },
      "source": [
        "predictedHour = regr.predict([[2020,6,4,10,6]])\n",
        "\n",
        "print(predictedHour)"
      ],
      "execution_count": 154,
      "outputs": [
        {
          "output_type": "stream",
          "text": [
            "[12.77408822]\n"
          ],
          "name": "stdout"
        }
      ]
    }
  ]
}